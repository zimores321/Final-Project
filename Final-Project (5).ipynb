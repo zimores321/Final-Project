{
 "cells": [
  {
   "cell_type": "markdown",
   "metadata": {},
   "source": [
    "# the Great Neighborhood Hunt "
   ]
  },
  {
   "cell_type": "markdown",
   "metadata": {},
   "source": [
    "## introduction\n",
    "so lets set the scene, you just got a new job in pittsburgh and are moving to the city. now there are so many areas to pick from that you begin to feel overwelmed. \n",
    "\n",
    "Then you realize you need to think of criteria for what makes somewhere good and bad. \n",
    "\n",
    "Then in a moment of probably lack luster judgement, you ask a college student who has never bought a house beore to give you insight into the best neighborhood, good for you."
   ]
  },
  {
   "cell_type": "code",
   "execution_count": 12,
   "metadata": {},
   "outputs": [],
   "source": [
    "import pandas as pd\n"
   ]
  },
  {
   "cell_type": "code",
   "execution_count": 13,
   "metadata": {},
   "outputs": [],
   "source": [
    "trees = pd.read_csv(\"https://data.wprdc.org/datastore/dump/1515a93c-73e3-4425-9b35-1cd11b2196da\")\n",
    "\n",
    "area = pd.read_csv((\"area.csv\"), parse_dates=True)"
   ]
  },
  {
   "cell_type": "markdown",
   "metadata": {},
   "source": [
    "## what are we looking for?\n",
    "now then, when a family is moving into a neighborhood, there are many things to keep in mind. now many things can be taken into account, wither it is saftey, Needing more space, schools or even at times visiting family more often. these are just a few things, but if you think really hard and look deep down i think the answer to what is the most important factor in buying a house becomes obvious. its something so simple you can easily overlook it. lets all say it togather\n",
    "<br>1...\n",
    "<br>2...\n",
    "<br>3...\n",
    "<br>TREE ENTS!!!\n",
    "<br>\n",
    "<br><img src=\"https://vignette3.wikia.nocookie.net/thronerush/images/a/a2/400px-Ent_1600.jpg/revision/latest?cb=20131226114046\" alt=\"Alt text\" title=\"Title text\" />\n",
    "<br>\n",
    "<br>tree ents are obviously one of the best things to look for in an area. On top of being great neigborhood watches, they are also very good conversationalists. Now as everyone knows, being a tree ent is a government job. therefore, only trees owned by the city of pittsburgh can be tree ents. Thus the best way to figure out the safest neighborhood in pittsburgh is by finding the area with the most government owed trees. this can prove difficult as even if you had the time to go out and just count trees, knowing which ones are government owend isnt possible. Luckily, using the WPRDC, we are able to find where there are dense populations of trees owned by the government in pittsburgh is located as there is a record kept of them.\n"
   ]
  },
  {
   "cell_type": "code",
   "execution_count": 14,
   "metadata": {},
   "outputs": [
    {
     "data": {
      "text/html": [
       "<div>\n",
       "<style scoped>\n",
       "    .dataframe tbody tr th:only-of-type {\n",
       "        vertical-align: middle;\n",
       "    }\n",
       "\n",
       "    .dataframe tbody tr th {\n",
       "        vertical-align: top;\n",
       "    }\n",
       "\n",
       "    .dataframe thead th {\n",
       "        text-align: right;\n",
       "    }\n",
       "</style>\n",
       "<table border=\"1\" class=\"dataframe\">\n",
       "  <thead>\n",
       "    <tr style=\"text-align: right;\">\n",
       "      <th></th>\n",
       "      <th>trees</th>\n",
       "      <th>area</th>\n",
       "      <th>trees/km</th>\n",
       "    </tr>\n",
       "    <tr>\n",
       "      <th>neighborhood</th>\n",
       "      <th></th>\n",
       "      <th></th>\n",
       "      <th></th>\n",
       "    </tr>\n",
       "  </thead>\n",
       "  <tbody>\n",
       "    <tr>\n",
       "      <th>Homewood South</th>\n",
       "      <td>459</td>\n",
       "      <td>11104194.0</td>\n",
       "      <td>0.041336</td>\n",
       "    </tr>\n",
       "    <tr>\n",
       "      <th>Northview Heights</th>\n",
       "      <td>6</td>\n",
       "      <td>8739570.0</td>\n",
       "      <td>0.000687</td>\n",
       "    </tr>\n",
       "    <tr>\n",
       "      <th>Marshall-Shadeland</th>\n",
       "      <td>488</td>\n",
       "      <td>6426350.5</td>\n",
       "      <td>0.075937</td>\n",
       "    </tr>\n",
       "    <tr>\n",
       "      <th>Lincoln-Lemington-Belmar</th>\n",
       "      <td>524</td>\n",
       "      <td>7809355.5</td>\n",
       "      <td>0.067099</td>\n",
       "    </tr>\n",
       "    <tr>\n",
       "      <th>Chateau</th>\n",
       "      <td>276</td>\n",
       "      <td>10688264.0</td>\n",
       "      <td>0.025823</td>\n",
       "    </tr>\n",
       "    <tr>\n",
       "      <th>Homewood North</th>\n",
       "      <td>403</td>\n",
       "      <td>12103512.0</td>\n",
       "      <td>0.033296</td>\n",
       "    </tr>\n",
       "    <tr>\n",
       "      <th>East Carnegie</th>\n",
       "      <td>8</td>\n",
       "      <td>12049543.0</td>\n",
       "      <td>0.000664</td>\n",
       "    </tr>\n",
       "    <tr>\n",
       "      <th>Homewood West</th>\n",
       "      <td>92</td>\n",
       "      <td>5542252.5</td>\n",
       "      <td>0.016600</td>\n",
       "    </tr>\n",
       "  </tbody>\n",
       "</table>\n",
       "</div>"
      ],
      "text/plain": [
       "                          trees        area  trees/km\n",
       "neighborhood                                         \n",
       "Homewood South              459  11104194.0  0.041336\n",
       "Northview Heights             6   8739570.0  0.000687\n",
       "Marshall-Shadeland          488   6426350.5  0.075937\n",
       "Lincoln-Lemington-Belmar    524   7809355.5  0.067099\n",
       "Chateau                     276  10688264.0  0.025823\n",
       "Homewood North              403  12103512.0  0.033296\n",
       "East Carnegie                 8  12049543.0  0.000664\n",
       "Homewood West                92   5542252.5  0.016600"
      ]
     },
     "execution_count": 14,
     "metadata": {},
     "output_type": "execute_result"
    }
   ],
   "source": [
    "Tplot=trees.neighborhood.value_counts().rename_axis('neighborhood').to_frame('trees')\n",
    "\n",
    "Aplot=area.set_index('hood')\n",
    "Aplot=Aplot['area'].rename_axis('neighborhood').to_frame('area')\n",
    "\n",
    "Fplot=Tplot.join(Aplot[\"area\"])\n",
    "\n",
    "Fplot[\"trees/km\"] = Fplot[\"trees\"] / (Fplot[\"area\"]/1000)\n",
    "\n",
    "Fplot=Fplot.dropna()\n",
    "Fplot=Fplot.sort_values(by='trees/km', ascending=False)\n",
    "Fplot.sample(8)"
   ]
  },
  {
   "cell_type": "markdown",
   "metadata": {},
   "source": [
    "## finding a place called home\n",
    "the table above depicts the areas with the highest density of tree per kilometer out of the neighborhoods in pittsburgh. the use of kilometers over meters wis more of a way to keep the numbers at a reasonable number as there arent many places on earth where you will have trees within meters of each other consistently. as well the number of trees owned by the neighborhoods is going to be a small percentage of the total population. Using the data that is in this database we can find that Allegheny center has the most trees out off all neigborhoods, with Friendship being a close second. using this data you can see below that the diference in the number of trees i quite high compared to even the top 10. Some people may say silly things like \"why tree ents, they arent real\" and to them i say, can you disprove there existence! i think not.\n"
   ]
  },
  {
   "cell_type": "code",
   "execution_count": 15,
   "metadata": {},
   "outputs": [
    {
     "data": {
      "text/plain": [
       "Text(0, 0.5, 'trees/km')"
      ]
     },
     "execution_count": 15,
     "metadata": {},
     "output_type": "execute_result"
    },
    {
     "data": {
      "image/png": "[encoded data removed]",
      "text/plain": [
       "<Figure size 432x288 with 1 Axes>"
      ]
     },
     "metadata": {
      "needs_background": "light"
     },
     "output_type": "display_data"
    }
   ],
   "source": [
    "ax=Fplot[\"trees/km\"].head(10).plot.bar()\n",
    "ax.set_ylabel(\"trees/km\")"
   ]
  },
  {
   "cell_type": "markdown",
   "metadata": {},
   "source": [
    "## conclusion\n",
    "Everyone wants a tree ent in there neighborhood. The number of trees in each area the are owned by the borough are very small and as such finding the area with the most becomes even that much more important. So as shown above, while not having as many total trees as a place like Squirrel Hill South, once size is acounted for Allegheny Center by far has the largest desity of trees owned by muncipalies. "
   ]
  },
  {
   "cell_type": "code",
   "execution_count": null,
   "metadata": {},
   "outputs": [],
   "source": []
  }
 ],
 "metadata": {
  "kernelspec": {
   "display_name": "Python 3",
   "language": "python",
   "name": "python3"
  },
  "language_info": {
   "codemirror_mode": {
    "name": "ipython",
    "version": 3
   },
   "file_extension": ".py",
   "mimetype": "text/x-python",
   "name": "python",
   "nbconvert_exporter": "python",
   "pygments_lexer": "ipython3",
   "version": "3.6.7"
  }
 },
 "nbformat": 4,
 "nbformat_minor": 4
}
